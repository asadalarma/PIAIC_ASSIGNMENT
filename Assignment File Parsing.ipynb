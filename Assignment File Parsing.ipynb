{
 "cells": [
  {
   "cell_type": "code",
   "execution_count": 2,
   "metadata": {},
   "outputs": [
    {
     "name": "stdout",
     "output_type": "stream",
     "text": [
      "Please Enter Filename: sample_text_file.txt4\n",
      "Number of words in a file: 38128\n",
      "Number of lines in a file: 4821\n",
      "Number of lines with n: 4821\n",
      "Number of lines with n and r: 0\n",
      "Number of lines with r: 0\n",
      "Number of total characters in a file: 137184\n",
      "Number of space  in a file: 54320\n",
      "Number of non space characters in a file: 82864\n",
      "Number of tabs in a file: 34\n",
      "Number of paragraph in a file (greater than 2 space): 4821\n"
     ]
    }
   ],
   "source": [
    "#sample_text_file.txt4\n",
    "filename = input(\"Please Enter Filename: \")\n",
    "num_words=count_lines=total_charc=space=tabs=paragraph=lines_with_n=lines_with_nandr=lines_with_r=0\n",
    "\n",
    "with open(filename,'r',encoding=\"utf8\") as f: \n",
    "    \n",
    "    for line in f:\n",
    "        words = line.split()\n",
    "        num_words += len(words)\n",
    "        space += line.count(' ')\n",
    "        if space > 2:\n",
    "            paragraph+=1\n",
    "        \n",
    "        lines_with_n += line.count('\\n')\n",
    "        lines_with_nandr += line.count('\\n\\r')\n",
    "        lines_with_r += line.count('\\r')\n",
    "        tabs += line.count('\\t')\n",
    "        count_lines+=1\n",
    "        total_charc = total_charc + len(line)\n",
    "        \n",
    "print(\"Number of words in a file:\",num_words)\n",
    "print(\"Number of lines in a file:\",count_lines)\n",
    "print(\"Number of lines with n:\",lines_with_n)\n",
    "print(\"Number of lines with n and r:\",lines_with_nandr)\n",
    "print(\"Number of lines with r:\",lines_with_r)\n",
    "\n",
    "print(\"Number of total characters in a file:\",total_charc)\n",
    "print(\"Number of space  in a file:\",space)\n",
    "print(\"Number of non space characters in a file:\",total_charc-space)\n",
    "print(\"Number of tabs in a file:\",tabs)\n",
    "print(\"Number of paragraph in a file (greater than 2 space):\",paragraph)"
   ]
  },
  {
   "cell_type": "code",
   "execution_count": 9,
   "metadata": {},
   "outputs": [
    {
     "name": "stdout",
     "output_type": "stream",
     "text": [
      "Please Enter Filename: example_html_file.html\n",
      "==========TAGS ARE AS FOLLOWS===========\n",
      "\n",
      "html\n",
      "head\n",
      "title\n",
      "style\n",
      "body\n",
      "h1\n",
      "p\n",
      "p\n",
      "p\n",
      "a\n",
      "\n",
      "The count of tags in html file : 10\n"
     ]
    }
   ],
   "source": [
    "from bs4 import BeautifulSoup\n",
    "\n",
    "filename = input(\"Please Enter Filename: \")\n",
    "count_tags = 0\n",
    "with open(filename,'r') as f:    \n",
    "    soup = BeautifulSoup(f.read())\n",
    "    print(\"==========TAGS ARE AS FOLLOWS===========\\n\")\n",
    "    for tag in soup.find_all():\n",
    "        print(tag.name)\n",
    "        count_tags+=1\n",
    "print(\"\\nThe count of tags in html file :\",count_tags)"
   ]
  },
  {
   "cell_type": "code",
   "execution_count": null,
   "metadata": {},
   "outputs": [],
   "source": []
  }
 ],
 "metadata": {
  "kernelspec": {
   "display_name": "Python 3",
   "language": "python",
   "name": "python3"
  },
  "language_info": {
   "codemirror_mode": {
    "name": "ipython",
    "version": 3
   },
   "file_extension": ".py",
   "mimetype": "text/x-python",
   "name": "python",
   "nbconvert_exporter": "python",
   "pygments_lexer": "ipython3",
   "version": "3.7.3"
  }
 },
 "nbformat": 4,
 "nbformat_minor": 2
}
