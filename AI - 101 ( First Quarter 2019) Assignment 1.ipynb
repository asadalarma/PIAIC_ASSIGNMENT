{
 "cells": [
  {
   "cell_type": "code",
   "execution_count": null,
   "metadata": {},
   "outputs": [],
   "source": [
    "# Program calculate the radius of circle\n",
    "\n",
    "radius = float(input(\"Input Radius: \"))\n",
    "# area is pi r^2\n",
    "pie = 3.141\n",
    "\n",
    "area_of_circle = pie * ( radius * radius )\n",
    "print('Area of Circle with radius %.1f is %f' %(radius, area_of_circle))"
   ]
  },
  {
   "cell_type": "code",
   "execution_count": null,
   "metadata": {},
   "outputs": [],
   "source": [
    "# Program check either positive , negative or zero\n",
    "\n",
    "number = float(input(\"Enter Number: \"))\n",
    "if number > 0:\n",
    "    print('Positive Number Entered')\n",
    "elif number == 0:\n",
    "    print('Zero Entered')\n",
    "else:\n",
    "    print('Negative Number Entered')"
   ]
  },
  {
   "cell_type": "code",
   "execution_count": null,
   "metadata": {},
   "outputs": [],
   "source": [
    "# Program to check wheather a number is completely divisible by another number\n",
    "\n",
    "numerator = int(input(\"Enter Numerator: \"))\n",
    "denominator = int(input(\"Enter Denominator: \"))\n",
    "\n",
    "remainder = numerator % denominator\n",
    "if remainder == 0:\n",
    "    print('Number %d is Completely divisible by %d' %(numerator,denominator))\n",
    "else:\n",
    "    print('Number %d is not Completely divisible by %d' %(numerator,denominator))"
   ]
  },
  {
   "cell_type": "code",
   "execution_count": null,
   "metadata": {},
   "outputs": [],
   "source": [
    "# Program to calculate number of days between two dates\n",
    "\n",
    "from datetime import datetime\n",
    "date_format = \"%d/%m/%Y\"\n",
    "\n",
    "date1 = input(\"Enter a date in (dd/mm/yyyy) format: \")\n",
    "date2 = input(\"Enter a date in (dd/mm/yyyy) format: \")\n",
    "\n",
    "a = datetime.strptime(date1, date_format)\n",
    "b = datetime.strptime(date2, date_format)\n",
    "\n",
    "difference = b - a\n",
    "print ('There are %s days in between %s and %s' %(difference.days,date1,date2))"
   ]
  },
  {
   "cell_type": "code",
   "execution_count": null,
   "metadata": {},
   "outputs": [],
   "source": [
    "# Program to get the volume of a sphere\n",
    "\n",
    "radius = float(input(\"Enter Radius of Sphere: \"))\n",
    "# Formula V = 4/3 πr^3\n",
    "pie = 3.141\n",
    "r3 = radius * radius * radius\n",
    "\n",
    "formula = (4/3) * pie * r3\n",
    "print('Volume of the Sphere with Radius %.1f is %.2f' %(radius,formula))\n"
   ]
  },
  {
   "cell_type": "code",
   "execution_count": null,
   "metadata": {},
   "outputs": [],
   "source": [
    "# Program to get a string which is n (non-negative integer) copies of a given string\n",
    "\n",
    "string = input(\"Enter String: \")\n",
    "copies = int(input(\"How many copies of String you need: \"))\n",
    "\n",
    "string_copies=string * copies\n",
    "print('%d Copies of %s are %s' %(copies,string,string_copies))"
   ]
  },
  {
   "cell_type": "code",
   "execution_count": null,
   "metadata": {},
   "outputs": [],
   "source": [
    "# Program to find a whether a given number (accept from the user) is even or odd. Print out a appropriate message to the user \n",
    "\n",
    "number = int(input(\"Enter Number: \"))\n",
    "\n",
    "if (number % 2) == 0:\n",
    "    print('%d is Even' %(number))\n",
    "else:\n",
    "    print('%d is Odd' %(number))\n"
   ]
  },
  {
   "cell_type": "code",
   "execution_count": null,
   "metadata": {},
   "outputs": [],
   "source": [
    "# Program to test whether a passed letter is a vowel or not\n",
    "\n",
    "letter = input(\"Enter a character: \")\n",
    "\n",
    "vowels = ('a','e','i','o','u','A','E','I','O','U')\n",
    "\n",
    "if letter in vowels:\n",
    "    print('Letter %c is Vowel' %(letter))\n",
    "else:\n",
    "    print('Letter %c is not Vowel' %(letter))\n"
   ]
  },
  {
   "cell_type": "code",
   "execution_count": null,
   "metadata": {},
   "outputs": [],
   "source": [
    "# Program that will accept the base and height of a triangle and compute the area\n",
    "\n",
    "# Formula 1/2 base x height\n",
    "base = float(input(\"Enter Magnitude of Triangle Base: \"))\n",
    "height = float(input(\"Enter Magnitude of Triangle Height: \"))\n",
    "\n",
    "formula = (1/2) * base * height\n",
    "print('Area of Triangle with Height %.1f and Base %.1f is %.1f' %(height,base,formula))"
   ]
  },
  {
   "cell_type": "code",
   "execution_count": null,
   "metadata": {},
   "outputs": [],
   "source": [
    "#  Program to compute the future value of a specified principal amount, rate of interest, and a number of years\n",
    "\n",
    "principle_amount = float(input(\"Please enter principal amount: \"))\n",
    "rate_of_interest = float(input(\"Please Enter Rate of interest in %: \"))\n",
    "years = int(input(\"Enter number of years for investment: \"))\n",
    "\n",
    "# Formula = Principal Amount * ( 1 + Rate of Interest ) ^ Number of years)\n",
    "\n",
    "years_interest = pow(1 + rate_of_interest,years)\n",
    "future_value  = principle_amount * years_interest\n",
    "print('After',years,'years your principal amount',principle_amount,'over an interest rate of',rate_of_interest,'% will be {0:.2f}'.format(future_value))"
   ]
  },
  {
   "cell_type": "code",
   "execution_count": null,
   "metadata": {},
   "outputs": [],
   "source": [
    "# Program to compute the distance between the points (x1, y1) and (x2, y2)\n",
    "import math\n",
    "\n",
    "x1 = int(input(\"Enter Co-ordinate for x1: \"))\n",
    "x2 = int(input(\"Enter Co-ordinate for x2: \"))\n",
    "y1 = int(input(\"Enter Co-ordinate for y1: \"))\n",
    "y2 = int(input(\"Enter Co-ordinate for y2: \"))\n",
    "\n",
    "p1 = [x1, x2]\n",
    "p2 = [y1, y2]\n",
    "distance = math.sqrt( ((p1[0]-p2[0])**2)+((p1[1]-p2[1])**2) )\n",
    "\n",
    "print('Distance between points (',x1,',',x2,') and (',y1,',',y2,') is ',distance)\n"
   ]
  },
  {
   "cell_type": "code",
   "execution_count": null,
   "metadata": {},
   "outputs": [],
   "source": [
    "# Program to convert height in feet to centimetres\n",
    "\n",
    "# Formula 1 ft = 30.48 cm\n",
    "feet = float(input(\"Enter Height in Feet: \"))\n",
    "centimeters = feet * 30.48\n",
    "print('There are',centimeters,'Cm in',feet,'ft')"
   ]
  },
  {
   "cell_type": "code",
   "execution_count": null,
   "metadata": {},
   "outputs": [],
   "source": [
    "# Program to calculate body mass index \n",
    "\n",
    "height = float(input(\"Enter Height in Cm: \"))\n",
    "kg = float(input(\"Enter Weight in Kg: \"))\n",
    "meter   = 100\n",
    "\n",
    "temp = height/meter\n",
    "mass_index = (kg / (temp * temp))\n",
    "print(\"Your BMI is:\",round(mass_index,2))\n"
   ]
  },
  {
   "cell_type": "code",
   "execution_count": null,
   "metadata": {},
   "outputs": [],
   "source": [
    "# Program to sum of the first n positive integers \n",
    "\n",
    "n = int(input(\"Enter value of n: \"))\n",
    "sum_num = int((n * (n + 1)) / 2)\n",
    "print('Sum of n Positive integers till',n,'is',sum_num)"
   ]
  },
  {
   "cell_type": "code",
   "execution_count": null,
   "metadata": {},
   "outputs": [],
   "source": [
    "# Program to calculate the sum of the digits in an integer  \n",
    "\n",
    "number = int(input(\"Enter a number:\"))\n",
    "string_number = str(number)\n",
    "total=0\n",
    "\n",
    "while(number>0):\n",
    "    digit=number%10\n",
    "    total=total+digit\n",
    "    number=number//10\n",
    "    \n",
    "print(\"Sum of\",\" + \".join(string_number),\"is\",total)"
   ]
  },
  {
   "cell_type": "code",
   "execution_count": null,
   "metadata": {},
   "outputs": [],
   "source": [
    "# Program to convert an decimal integer to binary \n",
    "# you can use default bin function as well\n",
    "\n",
    "def decimalToBinary(number):\n",
    "   \n",
    "    if number > 1:\n",
    "        decimalToBinary(number // 2)\n",
    "    print(number % 2, end='')\n",
    "\n",
    "\n",
    "# decimal number\n",
    "number = int(input(\"Enter a decimal number: \"))\n",
    "\n",
    "decimalToBinary(number)\n"
   ]
  },
  {
   "cell_type": "code",
   "execution_count": 3,
   "metadata": {},
   "outputs": [
    {
     "name": "stdout",
     "output_type": "stream",
     "text": [
      "Enter a Binary number: 1001\n",
      "Decimal Representation of 1001 of 9\n"
     ]
    }
   ],
   "source": [
    "# Program to convert binary number to Decimal number \n",
    "\n",
    "binary_number = input(\"Enter a Binary number: \")\n",
    "list_binary_number = list(binary_number)\n",
    "decimal = 0\n",
    "\n",
    "for i in range(len(list_binary_number)):\n",
    "    digit = list_binary_number.pop()\n",
    "    if digit == '1':\n",
    "        decimal = decimal + pow(2, i)\n",
    "        \n",
    "print(\"Decimal Representation of\",binary_number,\"of\",decimal)"
   ]
  },
  {
   "cell_type": "code",
   "execution_count": 12,
   "metadata": {},
   "outputs": [
    {
     "name": "stdout",
     "output_type": "stream",
     "text": [
      "Enter text: the is is\n",
      "Vowels: 3\n",
      "Consonants: 4\n"
     ]
    }
   ],
   "source": [
    "# Input a text and count the occurrences of vowels and consonant \n",
    "\n",
    "text = input(\"Enter text: \")\n",
    "vowels = 0\n",
    "consonants = 0\n",
    "\n",
    "for i in text:\n",
    "    if(i == 'a' or i == 'e' or i == 'i' or i == 'o' or i == 'u'\n",
    "       or i == 'A' or i == 'E' or i == 'I' or i == 'O' or i == 'U'):\n",
    "        vowels = vowels + 1\n",
    "    elif(i!=' '):\n",
    "        consonants = consonants + 1\n",
    " \n",
    "print(\"Vowels:\", vowels)\n",
    "print(\"Consonants:\", consonants)"
   ]
  },
  {
   "cell_type": "code",
   "execution_count": 15,
   "metadata": {},
   "outputs": [
    {
     "name": "stdout",
     "output_type": "stream",
     "text": [
      "Enter text: YUK\n",
      "Text YUK is not Palindrome\n"
     ]
    }
   ],
   "source": [
    "# Program to check whether given input is palindrome or not \n",
    "\n",
    "# change this value for a different output\n",
    "string = input(\"Enter text: \")\n",
    "\n",
    "# make it suitable for caseless comparison\n",
    "small_letters = string.casefold()\n",
    "\n",
    "# reverse the string\n",
    "small_letters = reversed(small_letters)\n",
    "\n",
    "# check if the string is equal to its reverse\n",
    "if list(small_letters) == list(small_letters):\n",
    "   print(\"Text\",string,\"is Palindrome\")\n",
    "else:\n",
    "   print(\"Text\",string,\"is not Palindrome\")"
   ]
  },
  {
   "cell_type": "code",
   "execution_count": 18,
   "metadata": {},
   "outputs": [
    {
     "name": "stdout",
     "output_type": "stream",
     "text": [
      "Enter text:Python 2.0\n",
      "Numbers = 2\n",
      "Alphabets = 6\n",
      "Special Characters = 1\n",
      "Spaces = 1\n"
     ]
    }
   ],
   "source": [
    "# Program that accepts a string and calculate the number of digits and letters\n",
    "\n",
    "text = input(\"Enter text:\")\n",
    "numbers = alphabets = space = special_characters = 0\n",
    "\n",
    "for char in text:\n",
    "    if char.isdigit():\n",
    "        numbers = numbers + 1\n",
    "    elif char.isalpha():\n",
    "        alphabets = alphabets + 1\n",
    "    elif char.isspace():\n",
    "         space = space + 1\n",
    "    else:\n",
    "        special_characters = special_characters + 1\n",
    "    \n",
    "print(\"Numbers =\", numbers)\n",
    "print(\"Alphabets =\", alphabets)\n",
    "print(\"Special Characters =\", special_characters)\n",
    "print(\"Spaces =\", space)"
   ]
  },
  {
   "cell_type": "code",
   "execution_count": 21,
   "metadata": {},
   "outputs": [
    {
     "name": "stdout",
     "output_type": "stream",
     "text": [
      "\n",
      "* \n",
      "* * \n",
      "* * * \n",
      "* * * * \n",
      "* * * * * \n",
      "* * * * \n",
      "* * * \n",
      "* * \n",
      "* \n"
     ]
    }
   ],
   "source": [
    "# program to construct the following pattern\n",
    "\n",
    "number=5;\n",
    "for i in range(number):\n",
    "    for j in range(i):\n",
    "        print ('* ', end=\"\")\n",
    "    print('')\n",
    "\n",
    "for i in range(number,0,-1):\n",
    "    for j in range(i):\n",
    "        print('* ', end=\"\")\n",
    "    print('')"
   ]
  },
  {
   "cell_type": "code",
   "execution_count": 27,
   "metadata": {},
   "outputs": [
    {
     "name": "stdout",
     "output_type": "stream",
     "text": [
      "\n",
      "1\n",
      "12\n",
      "123\n",
      "1234\n",
      "12345\n",
      "1234\n",
      "123\n",
      "12\n",
      "1\n"
     ]
    }
   ],
   "source": [
    "# program to construct the following pattern\n",
    "\n",
    "number=5;\n",
    "for i in range(number):\n",
    "    for j in range(i):\n",
    "        print (j+1, end=\"\")\n",
    "    print('')\n",
    "\n",
    "for i in range(number,0,-1):\n",
    "    for j in range(i):\n",
    "        print(j+1, end=\"\")\n",
    "    print('')"
   ]
  },
  {
   "cell_type": "code",
   "execution_count": null,
   "metadata": {},
   "outputs": [],
   "source": [
    "# program to construct the following pattern\n",
    "\n",
    "for i in range(10):\n",
    "    print(str(i)*i)"
   ]
  }
 ],
 "metadata": {
  "kernelspec": {
   "display_name": "Python 3",
   "language": "python",
   "name": "python3"
  },
  "language_info": {
   "codemirror_mode": {
    "name": "ipython",
    "version": 3
   },
   "file_extension": ".py",
   "mimetype": "text/x-python",
   "name": "python",
   "nbconvert_exporter": "python",
   "pygments_lexer": "ipython3",
   "version": "3.7.3"
  }
 },
 "nbformat": 4,
 "nbformat_minor": 2
}
